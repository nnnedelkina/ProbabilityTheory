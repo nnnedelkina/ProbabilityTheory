{
 "cells": [
  {
   "cell_type": "markdown",
   "metadata": {},
   "source": [
    "# Задача1"
   ]
  },
  {
   "cell_type": "markdown",
   "metadata": {},
   "source": [
    "Подбрасываются три игральных кубика. Оцените вероятность того, что сумма значений этих кубиков не будет превышать 6."
   ]
  },
  {
   "cell_type": "code",
   "execution_count": 1,
   "metadata": {},
   "outputs": [],
   "source": [
    "import numpy as np"
   ]
  },
  {
   "cell_type": "code",
   "execution_count": 2,
   "metadata": {},
   "outputs": [
    {
     "name": "stdout",
     "output_type": "stream",
     "text": [
      "Экспериментальная частота 0.0918\n"
     ]
    }
   ],
   "source": [
    "n = 10000\n",
    "# Создаем 3 списка для 3 кубиков по n результатов бросков в каждом\n",
    "cubes = [np.random.randint(1, 7, size=n) for i in range(3)]\n",
    "# Считаем подходящие комбинации и делим на общее число экспериментов\n",
    "p_experiment = (cubes[0] + cubes[1] + cubes[2] <= 6).sum()/n\n",
    "print(f\"Экспериментальная частота {p_experiment}\")"
   ]
  },
  {
   "cell_type": "markdown",
   "metadata": {},
   "source": [
    "Общее число возможных комбинаций значений на 3х кубиках - $$6^3$$\n",
    "\n",
    "Число подходящих комбинаций: N(sum=6) + N(sum=5) + N(sum=4) + N(sum=3)\n",
    "N(sum = m) можем получить, как число 2х разделителей между m единиц (m-1 промежутков), например:\n",
    "1 + 1 | 1 + 1 + 1 | 1\n",
    "\n",
    "То есть\n",
    "$$ p = (C_5^2 + C_4^2 + C_3^2 + C_2^2) / 6^3 = (10 + 6 + 3 + 1)/216$$"
   ]
  },
  {
   "cell_type": "code",
   "execution_count": 3,
   "metadata": {},
   "outputs": [
    {
     "name": "stdout",
     "output_type": "stream",
     "text": [
      "Теоретическая вероятность 0.09259259259259259\n"
     ]
    }
   ],
   "source": [
    "p_theory = (10 + 6 + 3 + 1)/6**3\n",
    "print(f\"Теоретическая вероятность {p_theory}\")"
   ]
  },
  {
   "cell_type": "markdown",
   "metadata": {},
   "source": [
    "# Задача2"
   ]
  },
  {
   "cell_type": "markdown",
   "metadata": {},
   "source": [
    "Имеется колода в 52 карты. Найти число возможностей вытянуть из неё 4 карты так, чтобы среди них был хотя бы один туз"
   ]
  },
  {
   "cell_type": "code",
   "execution_count": 4,
   "metadata": {},
   "outputs": [],
   "source": [
    "def combinations(n: int, k: int) -> int:\n",
    "    return np.math.factorial(n) // (np.math.factorial(k) * np.math.factorial(n - k))"
   ]
  },
  {
   "cell_type": "markdown",
   "metadata": {},
   "source": [
    "Способ 1:\n",
    "\n",
    "Из числа любых вариантов взять 4 карты из 52 вычтем число взять 0 тузов в 4-х картах, то есть взять все 4 карты в оставшихся 48:\n",
    "$$C_{52}^4 - C_{48}^4$$\n",
    "\n"
   ]
  },
  {
   "cell_type": "code",
   "execution_count": 5,
   "metadata": {},
   "outputs": [
    {
     "data": {
      "text/plain": [
       "76145"
      ]
     },
     "execution_count": 5,
     "metadata": {},
     "output_type": "execute_result"
    }
   ],
   "source": [
    "combinations(52, 4) - combinations(48, 4) "
   ]
  },
  {
   "cell_type": "markdown",
   "metadata": {},
   "source": [
    "Способ 2:\n",
    "Сложим способы взять 1, 2, 3 и 4 туза, то есть взять i из 4х тузов и взять 4-i карты из оставшихся 48 карт:\n",
    "$$C_{4}^1 \\cdot C_{48}^3 + C_{4}^2 \\cdot C_{48}^2 + C_{4}^3 \\cdot C_{48}^1 + C_{4}^4 $$"
   ]
  },
  {
   "cell_type": "code",
   "execution_count": 6,
   "metadata": {},
   "outputs": [
    {
     "data": {
      "text/plain": [
       "76145"
      ]
     },
     "execution_count": 6,
     "metadata": {},
     "output_type": "execute_result"
    }
   ],
   "source": [
    "sum([combinations(4, n) * combinations(48, 4 - n) for n in range(1, 5)])"
   ]
  },
  {
   "cell_type": "markdown",
   "metadata": {},
   "source": [
    "# Задача3"
   ]
  },
  {
   "cell_type": "markdown",
   "metadata": {},
   "source": [
    "Из 60 вопросов, входящих в экзаменационные билеты, студент знает 50. Какова вероятность того, что среди трёх наугад выбранных вопросов студент знает: а) все? б) два?"
   ]
  },
  {
   "cell_type": "markdown",
   "metadata": {},
   "source": [
    "a) Вероятность, что знает все - число вариантов взять 3 из известных 50 поделить на общее число вариантов взять 3 (из 60):\n",
    "$$C_{50}^3 / C_{60}^3$$"
   ]
  },
  {
   "cell_type": "code",
   "execution_count": 7,
   "metadata": {},
   "outputs": [
    {
     "data": {
      "text/plain": [
       "0.5727644652250146"
      ]
     },
     "execution_count": 7,
     "metadata": {},
     "output_type": "execute_result"
    }
   ],
   "source": [
    "combinations(50, 3) / combinations(60, 3) "
   ]
  },
  {
   "cell_type": "markdown",
   "metadata": {},
   "source": [
    "или другой способ: из 1 вычесть вероятность не знать хотя бы 1, то есть не знать 1 или 2 или 3: \n",
    "$$1 - (C_{50}^2 \\cdot C_{10}^1 + C_{50}^1 \\cdot C_{10}^2 + C_{10}^3) / C_{60}^3$$"
   ]
  },
  {
   "cell_type": "code",
   "execution_count": 8,
   "metadata": {},
   "outputs": [
    {
     "data": {
      "text/plain": [
       "0.5727644652250146"
      ]
     },
     "execution_count": 8,
     "metadata": {},
     "output_type": "execute_result"
    }
   ],
   "source": [
    "1 - (combinations(50, 2) * combinations(10, 1) + combinations(50, 1) * combinations(10, 2) + combinations(10, 3))  / combinations(60, 3) "
   ]
  },
  {
   "cell_type": "markdown",
   "metadata": {},
   "source": [
    "б) Вероятность, что знает 2 - число вариантов взять 2 из известных 50 и 1 из неизвестных 10 и поделить на общее число вариантов взять 3 (из 60):\n",
    "$$(C_{50}^2 \\cdot C_{10}^1) / C_{60}^3$$"
   ]
  },
  {
   "cell_type": "code",
   "execution_count": 9,
   "metadata": {},
   "outputs": [
    {
     "data": {
      "text/plain": [
       "0.35797779076563413"
      ]
     },
     "execution_count": 9,
     "metadata": {},
     "output_type": "execute_result"
    }
   ],
   "source": [
    "combinations(50, 2) * combinations(10, 1) / combinations(60, 3)"
   ]
  },
  {
   "cell_type": "markdown",
   "metadata": {},
   "source": [
    "# Задача4"
   ]
  },
  {
   "cell_type": "markdown",
   "metadata": {},
   "source": [
    "Бросается игральная кость. Пусть событие A - появление чётного числа, событие B - появление числа больше трёх. Являются ли эти события независимыми?"
   ]
  },
  {
   "cell_type": "markdown",
   "metadata": {},
   "source": [
    "Для независимых событий:\n",
    "$$P(AB) = P(A) \\cdot P(B)$$\n",
    "Для задачи:\n",
    "$$P_{A} = 3/6 = 1/2$$\n",
    "$$P_{B} = 3/6 = 1/2$$\n",
    "$$P_{AB} = P_{4,6} = 2/6 = 1/3$$\n",
    "$$1/3 \\neq 1/2 \\cdot 1/2$$\n",
    "Действительно, вероятность получить четные больше 3 (1/3) в 2 раза выше, чем четные меньше либо равно 3 (1/6)"
   ]
  },
  {
   "cell_type": "markdown",
   "metadata": {},
   "source": [
    "# Задача5"
   ]
  },
  {
   "cell_type": "markdown",
   "metadata": {},
   "source": [
    "Допустим, имеется некоторая очень редкая болезнь (поражает 0.1% населения). Вы приходите к врачу, вам делают тест на эту болезнь, и тест оказывается положительным. Врач говорит вам, что этот тест верно выявляет 99% больных этой болезнью и всего лишь в 1% случаев даёт ложный положительный ответ.\n",
    "\n",
    "Вопрос: какова вероятность, что вы действительно больны ей?"
   ]
  },
  {
   "cell_type": "markdown",
   "metadata": {},
   "source": [
    "$$P(ill|positive) = \\frac{P(positive|ill) \\cdot P(ill)}{P(positive)} = $$\n",
    "$$\\frac{P(right|ill) \\cdot P(ill)}{P(right|ill) + P(wrong|not\\ ill)}$$"
   ]
  },
  {
   "cell_type": "code",
   "execution_count": 10,
   "metadata": {},
   "outputs": [
    {
     "name": "stdout",
     "output_type": "stream",
     "text": [
      "Вероятность, что действительно болен: 0.09016393442622951\n"
     ]
    }
   ],
   "source": [
    "p = 0.99 * 0.001 / (0.99 * 0.001 + 0.01 * 0.999)\n",
    "print(f\"Вероятность, что действительно болен: {p}\")"
   ]
  },
  {
   "cell_type": "code",
   "execution_count": null,
   "metadata": {},
   "outputs": [],
   "source": []
  }
 ],
 "metadata": {
  "kernelspec": {
   "display_name": "Python 3",
   "language": "python",
   "name": "python3"
  },
  "language_info": {
   "codemirror_mode": {
    "name": "ipython",
    "version": 3
   },
   "file_extension": ".py",
   "mimetype": "text/x-python",
   "name": "python",
   "nbconvert_exporter": "python",
   "pygments_lexer": "ipython3",
   "version": "3.7.6"
  }
 },
 "nbformat": 4,
 "nbformat_minor": 4
}
